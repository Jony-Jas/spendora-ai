{
    "cells": [
        {
            "cell_type": "code",
            "execution_count": 64,
            "metadata": {},
            "outputs": [],
            "source": [
                "from langchain_community.agent_toolkits import JsonToolkit, create_json_agent\n",
                "from langchain_community.tools.json.tool import JsonSpec\n",
                "from langchain_groq import ChatGroq\n"
            ]
        },
        {
            "cell_type": "code",
            "execution_count": 65,
            "metadata": {},
            "outputs": [],
            "source": [
                "import os\n",
                "from dotenv import load_dotenv\n",
                "load_dotenv()\n",
                "\n",
                "os.environ['GROQ_API_KEY'] = os.getenv('GROQ_API_KEY')"
            ]
        },
        {
            "cell_type": "code",
            "execution_count": 66,
            "metadata": {},
            "outputs": [],
            "source": [
                "json_spec = JsonSpec(\n",
                "    dict_={\n",
                "        \"type\": \"object\",\n",
                "        \"properties\": {\n",
                "            \"intent\": {\"type\": \"string\", \"description\": \"The user's action or intent, e.g., CREATE, READ, UPDATE, DELETE.\"},\n",
                "            \"data\": {\n",
                "                \"type\": \"object\",\n",
                "                \"properties\": {\n",
                "                    \"category\": {\"type\": \"string\", \"description\": \"The category of the expense.\"},\n",
                "                    \"amount\": {\"type\": \"number\", \"description\": \"The expense amount.\"},\n",
                "                    \"description\": {\"type\": \"string\", \"description\": \"Details or notes about the expense.\"},\n",
                "                    \"date\": {\"type\": \"string\", \"description\": \"The date of the expense.\"},\n",
                "                },\n",
                "                \"required\": [\"category\", \"amount\", \"description\"],\n",
                "            },\n",
                "        },\n",
                "        \"required\": [\"intent\", \"data\"],\n",
                "    }\n",
                ")\n"
            ]
        },
        {
            "cell_type": "code",
            "execution_count": 67,
            "metadata": {},
            "outputs": [],
            "source": [
                "llm = ChatGroq(model='llama-3.3-70b-versatile')\n",
                "toolkit = JsonToolkit(spec=json_spec)\n"
            ]
        },
        {
            "cell_type": "code",
            "execution_count": 68,
            "metadata": {},
            "outputs": [],
            "source": [
                "json_agent_executor = create_json_agent(\n",
                "    llm=llm,\n",
                "    toolkit=toolkit,\n",
                "    verbose=True,\n",
                ")"
            ]
        },
        {
            "cell_type": "code",
            "execution_count": 69,
            "metadata": {},
            "outputs": [],
            "source": [
                "# llm1_output = 'UserId: 987h78\\nAction: CREATE\\nAmount: 50.00\\nCategory: Leisure\\nDate: 13-01-2025\\nNotes: football expense of 50 from yesterday (13-01-2025)'\n",
                "\n",
                "# response = json_agent_executor.invoke(f\"Convert the following into a JSON object: {llm1_output}\")\n"
            ]
        },
        {
            "cell_type": "code",
            "execution_count": 70,
            "metadata": {},
            "outputs": [],
            "source": [
                "from langchain.chat_models import ChatOpenAI\n",
                "from langchain.prompts.chat import (\n",
                "    ChatPromptTemplate,\n",
                "    HumanMessagePromptTemplate,\n",
                ")\n",
                "from langchain.schema import SystemMessage, HumanMessage\n",
                "from langchain_core.output_parsers.json import JsonOutputParser\n",
                "from pydantic import BaseModel"
            ]
        },
        {
            "cell_type": "code",
            "execution_count": 71,
            "metadata": {},
            "outputs": [],
            "source": [
                "class ExpenseSchema(BaseModel):\n",
                "    UserId: str\n",
                "    Action: str\n",
                "    Amount: float\n",
                "    Category: str\n",
                "    Date: str\n",
                "    Notes: str"
            ]
        },
        {
            "cell_type": "code",
            "execution_count": 72,
            "metadata": {},
            "outputs": [],
            "source": [
                "output_parser = JsonOutputParser(pydantic_object=ExpenseSchema)"
            ]
        },
        {
            "cell_type": "code",
            "execution_count": 73,
            "metadata": {},
            "outputs": [],
            "source": [
                "text_input = \"\"\"UserId: 987h78\n",
                "Action: CREATE\n",
                "Amount: 50.00\n",
                "Category: Leisure\n",
                "Date: 13-01-2025\n",
                "Notes: football expense of 50 from yesterday (13-01-2025)\"\"\"\n",
                "\n",
                "prompt_template = ChatPromptTemplate.from_messages(\n",
                "    [\n",
                "        SystemMessage(content=\"You are a helpful assistant. Convert structured text into valid JSON.\"),\n",
                "        HumanMessage(content=\"Input text: {input}\\nOutput in JSON format following the defined schema.\"),\n",
                "    ]\n",
                ")"
            ]
        },
        {
            "cell_type": "code",
            "execution_count": 74,
            "metadata": {},
            "outputs": [],
            "source": [
                "messages = prompt_template.format_messages(input=text_input)"
            ]
        },
        {
            "cell_type": "code",
            "execution_count": 75,
            "metadata": {},
            "outputs": [],
            "source": [
                "response = llm(messages)"
            ]
        },
        {
            "cell_type": "code",
            "execution_count": 76,
            "metadata": {},
            "outputs": [],
            "source": [
                "# json_result = output_parser.parse(response.content)\n",
                "\n",
                "# print(json_result)"
            ]
        },
        {
            "cell_type": "code",
            "execution_count": 88,
            "metadata": {},
            "outputs": [
                {
                    "name": "stdout",
                    "output_type": "stream",
                    "text": [
                        "{'userId': '987h78', 'action': 'DELETE', 'amount': 0.0, 'category': 'Miscellaneous', 'date': '14-01-2025', 'description': 'Delete user account on today (14-01-2025)'}\n"
                    ]
                }
            ],
            "source": [
                "from langchain.chat_models import ChatOpenAI\n",
                "from langchain.prompts.chat import ChatPromptTemplate, SystemMessagePromptTemplate, HumanMessagePromptTemplate\n",
                "from langchain_core.output_parsers.json import JsonOutputParser\n",
                "from pydantic import BaseModel, ValidationError\n",
                "\n",
                "# Define the schema with Pydantic\n",
                "class ExpenseSchema(BaseModel):\n",
                "    userId: str\n",
                "    action: str\n",
                "    amount: float\n",
                "    category: str\n",
                "    date: str\n",
                "    description: str\n",
                "\n",
                "# Create the output parser\n",
                "output_parser = JsonOutputParser(pydantic_object=ExpenseSchema)\n",
                "\n",
                "\n",
                "\n",
                "# Input text\n",
                "text_input = \"\"\"UserId: 987h78\n",
                "Action: DELETE\n",
                "Amount: Not specified\n",
                "Category: Miscellaneous\n",
                "Date: 14-01-2025\n",
                "Notes: Delete user account on today (14-01-2025)\"\"\"\n",
                "\n",
                "# Build a structured prompt template\n",
                "prompt_template = ChatPromptTemplate.from_messages(\n",
                "    [\n",
                "        SystemMessagePromptTemplate.from_template(\n",
                "            \"\"\"You are a helpful assistant. Your task is to convert structured text into a JSON object that conforms to a specific schema.\n",
                "                If numeric values are not provided, they should be set to 0.0.\n",
                "                If a date is not provided, it should be set to the current date.\n",
                "                If a category is not provided, it should be set to 'Miscellaneous'.\n",
                "                If a description is not provided, it should be set to an empty string.\n",
                "            \"\"\"\n",
                "\n",
                "        ),\n",
                "        HumanMessagePromptTemplate.from_template(\n",
                "            \"Structured text input:\\n{text}\\n\\n\"\n",
                "            \"Please generate a JSON object that matches the following schema:\\n\"\n",
                "            \"{schema}\"\n",
                "            \"Output only valid JSON.\"\n",
                "        )\n",
                "    ]\n",
                ")\n",
                "\n",
                "# Generate the formatted prompt messages\n",
                "messages = prompt_template.format_messages(text=text_input, schema=ExpenseSchema.model_json_schema())\n",
                "\n",
                "# Generate the LLM response\n",
                "response = llm(messages)\n",
                "\n",
                "# Validate the response using JsonOutputParser\n",
                "try:\n",
                "    json_result = output_parser.parse(response.content)\n",
                "    print(json_result)\n",
                "except ValidationError as e:\n",
                "    print(\"ValidationError:\", e)\n",
                "except Exception as e:\n",
                "    print(\"Other Error:\", e)\n"
            ]
        },
        {
            "cell_type": "code",
            "execution_count": null,
            "metadata": {},
            "outputs": [],
            "source": []
        }
    ],
    "metadata": {
        "kernelspec": {
            "display_name": "Python 3",
            "language": "python",
            "name": "python3"
        },
        "language_info": {
            "codemirror_mode": {
                "name": "ipython",
                "version": 3
            },
            "file_extension": ".py",
            "mimetype": "text/x-python",
            "name": "python",
            "nbconvert_exporter": "python",
            "pygments_lexer": "ipython3",
            "version": "3.11.11"
        }
    },
    "nbformat": 4,
    "nbformat_minor": 2
}