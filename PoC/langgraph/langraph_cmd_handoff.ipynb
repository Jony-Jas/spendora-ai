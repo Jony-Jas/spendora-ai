{
    "cells": [
        {
            "cell_type": "code",
            "execution_count": 2,
            "metadata": {},
            "outputs": [],
            "source": [
                "from typing_extensions import Literal\n",
                "from langchain_core.messages import ToolMessage\n",
                "from langchain_core.tools import tool\n",
                "from langgraph.graph import MessagesState, StateGraph, START\n",
                "from langgraph.types import Command\n",
                "from langchain_groq import ChatGroq\n",
                "\n",
                "modlel = ChatGroq(model='llama-3.3-70b-versatile')\n",
                "\n",
                "\n",
                "@tool\n",
                "def transfer_to_multiplication_expert():\n",
                "    \"\"\"Ask multiplication agent for help.\"\"\"\n",
                "    # This tool is not returning anything: we're just using it\n",
                "    # as a way for LLM to signal that it needs to hand off to another agent\n",
                "    # (See the paragraph above)\n",
                "    return\n",
                "\n",
                "\n",
                "@tool\n",
                "def transfer_to_addition_expert():\n",
                "    \"\"\"Ask addition agent for help.\"\"\"\n",
                "    return\n",
                "\n",
                "\n",
                "def addition_expert(\n",
                "    state: MessagesState,\n",
                ") -> Command[Literal[\"multiplication_expert\", \"__end__\"]]:\n",
                "    system_prompt = (\n",
                "        \"You are an addition expert, you can ask the multiplication expert for help with multiplication. \"\n",
                "        \"Always do your portion of calculation before the handoff.\"\n",
                "    )\n",
                "    messages = [{\"role\": \"system\", \"content\": system_prompt}] + state[\"messages\"]\n",
                "    ai_msg = model.bind_tools([transfer_to_multiplication_expert]).invoke(messages)\n",
                "    # If there are tool calls, the LLM needs to hand off to another agent\n",
                "    if len(ai_msg.tool_calls) > 0:\n",
                "        tool_call_id = ai_msg.tool_calls[-1][\"id\"]\n",
                "        # NOTE: it's important to insert a tool message here because LLM providers are expecting\n",
                "        # all AI messages to be followed by a corresponding tool result message\n",
                "        tool_msg = {\n",
                "            \"role\": \"tool\",\n",
                "            \"content\": \"Successfully transferred\",\n",
                "            \"tool_call_id\": tool_call_id,\n",
                "        }\n",
                "        return Command(\n",
                "            goto=\"multiplication_expert\", update={\"messages\": [ai_msg, tool_msg]}\n",
                "        )\n",
                "\n",
                "    # If the expert has an answer, return it directly to the user\n",
                "    return {\"messages\": [ai_msg]}\n",
                "\n",
                "\n",
                "def multiplication_expert(\n",
                "    state: MessagesState,\n",
                ") -> Command[Literal[\"addition_expert\", \"__end__\"]]:\n",
                "    system_prompt = (\n",
                "        \"You are a multiplication expert, you can ask an addition expert for help with addition. \"\n",
                "        \"Always do your portion of calculation before the handoff.\"\n",
                "    )\n",
                "    messages = [{\"role\": \"system\", \"content\": system_prompt}] + state[\"messages\"]\n",
                "    ai_msg = model.bind_tools([transfer_to_addition_expert]).invoke(messages)\n",
                "    if len(ai_msg.tool_calls) > 0:\n",
                "        tool_call_id = ai_msg.tool_calls[-1][\"id\"]\n",
                "        tool_msg = {\n",
                "            \"role\": \"tool\",\n",
                "            \"content\": \"Successfully transferred\",\n",
                "            \"tool_call_id\": tool_call_id,\n",
                "        }\n",
                "        return Command(goto=\"addition_expert\", update={\"messages\": [ai_msg, tool_msg]})\n",
                "\n",
                "    return {\"messages\": [ai_msg]}"
            ]
        },
        {
            "cell_type": "code",
            "execution_count": 3,
            "metadata": {},
            "outputs": [],
            "source": [
                "builder = StateGraph(MessagesState)\n",
                "builder.add_node(\"addition_expert\", addition_expert)\n",
                "builder.add_node(\"multiplication_expert\", multiplication_expert)\n",
                "# we'll always start with the addition expert\n",
                "builder.add_edge(START, \"addition_expert\")\n",
                "graph = builder.compile()"
            ]
        },
        {
            "cell_type": "code",
            "execution_count": 4,
            "metadata": {},
            "outputs": [
                {
                    "data": {
                        "image/png": "[encoded data removed]",
                        "text/plain": [
                            "<IPython.core.display.Image object>"
                        ]
                    },
                    "metadata": {},
                    "output_type": "display_data"
                }
            ],
            "source": [
                "from IPython.display import Image, display\n",
                "\n",
                "try:\n",
                "    display(Image(graph.get_graph().draw_mermaid_png()))\n",
                "except Exception:\n",
                "    # This requires some extra dependencies and is optional\n",
                "    pass"
            ]
        },
        {
            "cell_type": "code",
            "execution_count": null,
            "metadata": {},
            "outputs": [],
            "source": []
        }
    ],
    "metadata": {
        "kernelspec": {
            "display_name": "Python 3",
            "language": "python",
            "name": "python3"
        },
        "language_info": {
            "codemirror_mode": {
                "name": "ipython",
                "version": 3
            },
            "file_extension": ".py",
            "mimetype": "text/x-python",
            "name": "python",
            "nbconvert_exporter": "python",
            "pygments_lexer": "ipython3",
            "version": "3.11.11"
        }
    },
    "nbformat": 4,
    "nbformat_minor": 2
}