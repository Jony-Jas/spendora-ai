{
    "cells": [
        {
            "cell_type": "code",
            "execution_count": 116,
            "metadata": {},
            "outputs": [],
            "source": [
                "from langchain_core.messages import convert_to_messages\n",
                "\n",
                "\n",
                "def pretty_print_messages(update):\n",
                "    if isinstance(update, tuple):\n",
                "        ns, update = update\n",
                "        # skip parent graph updates in the printouts\n",
                "        if len(ns) == 0:\n",
                "            return\n",
                "\n",
                "        graph_id = ns[-1].split(\":\")[0]\n",
                "        print(f\"Update from subgraph {graph_id}:\")\n",
                "        print(\"\\n\")\n",
                "\n",
                "    for node_name, node_update in update.items():\n",
                "        print(f\"Update from node {node_name}:\")\n",
                "        print(\"\\n\")\n",
                "\n",
                "        for m in convert_to_messages(node_update[\"messages\"]):\n",
                "            m.pretty_print()\n",
                "        print(\"\\n\")"
            ]
        },
        {
            "cell_type": "code",
            "execution_count": 1,
            "metadata": {},
            "outputs": [],
            "source": [
                "from typing import Annotated\n",
                "\n",
                "from typing_extensions import TypedDict\n",
                "\n",
                "from langgraph.graph import StateGraph, START, END\n",
                "from langgraph.graph.message import add_messages\n"
            ]
        },
        {
            "cell_type": "code",
            "execution_count": 2,
            "metadata": {},
            "outputs": [],
            "source": [
                "class State(TypedDict):\n",
                "    messages: Annotated[list, add_messages]\n",
                "\n",
                "graph_builder = StateGraph(State)"
            ]
        },
        {
            "cell_type": "code",
            "execution_count": 3,
            "metadata": {},
            "outputs": [],
            "source": [
                "from langchain_groq import ChatGroq\n",
                "llm = ChatGroq(model='llama-3.3-70b-versatile')"
            ]
        },
        {
            "cell_type": "code",
            "execution_count": 4,
            "metadata": {},
            "outputs": [
                {
                    "data": {
                        "text/plain": [
                            "<langgraph.graph.state.StateGraph at 0x139fb2e8690>"
                        ]
                    },
                    "execution_count": 4,
                    "metadata": {},
                    "output_type": "execute_result"
                }
            ],
            "source": [
                "def chatbot(state: State):\n",
                "    res = {\n",
                "        \"message\": llm.invoke(state[\"messages\"])\n",
                "    }\n",
                "    return res\n",
                "    \n",
                "graph_builder.add_node(\"chatbot\", chatbot)"
            ]
        },
        {
            "cell_type": "code",
            "execution_count": 5,
            "metadata": {},
            "outputs": [],
            "source": [
                "graph_builder.add_edge(START, \"chatbot\")\n",
                "graph_builder.add_edge(\"chatbot\", END)\n",
                "graph = graph_builder.compile()"
            ]
        },
        {
            "cell_type": "code",
            "execution_count": 6,
            "metadata": {},
            "outputs": [
                {
                    "data": {
                        "image/png": "[encoded data removed]",
                        "text/plain": [
                            "<IPython.core.display.Image object>"
                        ]
                    },
                    "metadata": {},
                    "output_type": "display_data"
                }
            ],
            "source": [
                "from IPython.display import Image, display\n",
                "\n",
                "try:\n",
                "    display(Image(graph.get_graph().draw_mermaid_png()))\n",
                "except Exception:\n",
                "    # This requires some extra dependencies and is optional\n",
                "    pass"
            ]
        },
        {
            "cell_type": "code",
            "execution_count": null,
            "metadata": {},
            "outputs": [],
            "source": []
        },
        {
            "cell_type": "code",
            "execution_count": 8,
            "metadata": {},
            "outputs": [
                {
                    "name": "stdout",
                    "output_type": "stream",
                    "text": [
                        "dict_values([[HumanMessage(content='hi', additional_kwargs={}, response_metadata={}, id='e220cdfa-b320-4397-8074-2bb87ab7e67a')]])\n",
                        "Good Bye\n"
                    ]
                }
            ],
            "source": [
                "config = {\"configurable\": {\"thread_id\": \"1\"}}\n",
                "\n",
                "while True:\n",
                "  user_input=input(\"User: \")\n",
                "  if user_input.lower() in [\"quit\",\"q\"]:\n",
                "    print(\"Good Bye\")\n",
                "    break\n",
                "  for event in graph.stream({ 'messages': (\"user\", user_input)}, config, stream_mode=\"values\"):\n",
                "    print(event.values())\n"
            ]
        },
        {
            "cell_type": "code",
            "execution_count": null,
            "metadata": {},
            "outputs": [],
            "source": []
        },
        {
            "cell_type": "code",
            "execution_count": 80,
            "metadata": {},
            "outputs": [],
            "source": []
        },
        {
            "cell_type": "code",
            "execution_count": 81,
            "metadata": {},
            "outputs": [],
            "source": [
                "def stream_graph_updates(graph, user_input: str):\n",
                "    \"\"\"\n",
                "    Stream updates from the graph for a given user input\n",
                "    \n",
                "    Args:\n",
                "        graph: Compiled LangGraph instance\n",
                "        user_input: User's input text\n",
                "    \"\"\"\n",
                "    # Create the initial state with messages\n",
                "    state = {\n",
                "        \"messages\": [(\"user\", user_input)]\n",
                "    }\n",
                "    \n",
                "    try:\n",
                "        # Stream the response\n",
                "        for event in graph.stream(state):\n",
                "            if event and isinstance(event, dict):\n",
                "                for key, value in event.items():\n",
                "                    if isinstance(value, dict) and \"messages\" in value:\n",
                "                        last_message = value[\"messages\"][-1]\n",
                "                        if isinstance(last_message, tuple) and len(last_message) >= 2:\n",
                "                            print(\"Assistant:\", last_message[1])\n",
                "    except Exception as e:\n",
                "        print(f\"Error during streaming: {str(e)}\")"
            ]
        },
        {
            "cell_type": "code",
            "execution_count": 82,
            "metadata": {},
            "outputs": [
                {
                    "name": "stdout",
                    "output_type": "stream",
                    "text": [
                        "Goodbye!\n"
                    ]
                }
            ],
            "source": [
                "while True:\n",
                "        try:\n",
                "            user_input = input(\"User: \")\n",
                "            if user_input.lower() in [\"quit\", \"exit\", \"q\"]:\n",
                "                print(\"Goodbye!\")\n",
                "                break\n",
                "                \n",
                "            stream_graph_updates(graph, user_input)\n",
                "            \n",
                "        except KeyboardInterrupt:\n",
                "            print(\"\\nGoodbye!\")\n",
                "            break\n",
                "        except Exception as e:\n",
                "            print(f\"Error: {str(e)}\")\n",
                "            # Fallback question\n",
                "            print(\"Using fallback question...\")\n",
                "            user_input = \"What do you know about LangGraph?\"\n",
                "            print(\"User: \" + user_input)\n",
                "            stream_graph_updates(graph, user_input)\n",
                "            break\n"
            ]
        },
        {
            "cell_type": "code",
            "execution_count": 83,
            "metadata": {},
            "outputs": [],
            "source": [
                "from langchain_core.tools import tool\n",
                "\n",
                "@tool\n",
                "def add(a: int, b: int, state: State) -> int:\n",
                "    \"\"\"Adds two numbers.\"\"\"\n",
                "    print(\"---------------->\", state)\n",
                "    return a + b\n",
                "\n",
                "\n",
                "@tool\n",
                "def multiply(a: int, b: int, state: State) -> int:\n",
                "    \"\"\"Multiplies two numbers.\"\"\"\n",
                "    print(\"---------------->\", state)\n",
                "    return a * b"
            ]
        },
        {
            "cell_type": "code",
            "execution_count": 84,
            "metadata": {},
            "outputs": [],
            "source": [
                "from typing import Annotated\n",
                "\n",
                "from langchain_core.tools import tool\n",
                "from langchain_core.tools.base import InjectedToolCallId\n",
                "from langgraph.prebuilt import InjectedState\n",
                "from langgraph.types import Command\n",
                "\n",
                "\n",
                "def make_handoff_tool(*, agent_name: str):\n",
                "    \"\"\"Create a tool that can return handoff via a Command\"\"\"\n",
                "    tool_name = f\"transfer_to_{agent_name}\"\n",
                "\n",
                "    @tool(tool_name)\n",
                "    def handoff_to_agent(\n",
                "        # # optionally pass current graph state to the tool (will be ignored by the LLM)\n",
                "        state: Annotated[dict, InjectedState],\n",
                "        # optionally pass the current tool call ID (will be ignored by the LLM)\n",
                "        tool_call_id: Annotated[str, InjectedToolCallId],\n",
                "    ):\n",
                "        \"\"\"Ask another agent for help.\"\"\"\n",
                "        tool_message = {\n",
                "            \"role\": \"tool\",\n",
                "            \"content\": f\"Successfully transferred to {agent_name}\",\n",
                "            \"name\": tool_name,\n",
                "            \"tool_call_id\": tool_call_id,\n",
                "        }\n",
                "        return Command(\n",
                "            # navigate to another agent node in the PARENT graph\n",
                "            goto=agent_name,\n",
                "            graph=Command.PARENT,\n",
                "            # This is the state update that the agent `agent_name` will see when it is invoked.\n",
                "            # We're passing agent's FULL internal message history AND adding a tool message to make sure\n",
                "            # the resulting chat history is valid. See the paragraph above for more information.\n",
                "            update={\"messages\": state[\"messages\"] + [tool_message]},\n",
                "        )\n",
                "\n",
                "    return handoff_to_agent"
            ]
        },
        {
            "cell_type": "code",
            "execution_count": 85,
            "metadata": {},
            "outputs": [],
            "source": [
                "from langgraph.prebuilt import create_react_agent\n",
                "from langgraph.graph import MessagesState\n",
                "\n",
                "addition_expert = create_react_agent(\n",
                "    llm,\n",
                "    [add, make_handoff_tool(agent_name=\"multiplication_expert\")],\n",
                "    state_modifier=\"You are an addition expert, you can ask the multiplication expert for help with multiplication.\",\n",
                ")\n",
                "\n",
                "multiplication_expert = create_react_agent(\n",
                "    llm,\n",
                "    [multiply, make_handoff_tool(agent_name=\"addition_expert\")],\n",
                "    state_modifier=\"You are a multiplication expert, you can ask an addition expert for help with addition.\",\n",
                ")\n",
                "\n",
                "builder = StateGraph(MessagesState)\n",
                "builder.add_node(\"addition_expert\", addition_expert)\n",
                "builder.add_node(\"multiplication_expert\", multiplication_expert)\n",
                "builder.add_edge(START, \"addition_expert\")\n",
                "graph = builder.compile()"
            ]
        },
        {
            "cell_type": "code",
            "execution_count": 86,
            "metadata": {},
            "outputs": [
                {
                    "data": {
                        "image/png": "[encoded data removed]",
                        "text/plain": [
                            "<IPython.core.display.Image object>"
                        ]
                    },
                    "metadata": {},
                    "output_type": "display_data"
                }
            ],
            "source": [
                "from IPython.display import Image, display\n",
                "\n",
                "try:\n",
                "    display(Image(graph.get_graph().draw_mermaid_png()))\n",
                "except Exception:\n",
                "    # This requires some extra dependencies and is optional\n",
                "    pass"
            ]
        },
        {
            "cell_type": "code",
            "execution_count": 87,
            "metadata": {},
            "outputs": [
                {
                    "name": "stdout",
                    "output_type": "stream",
                    "text": [
                        "Update from subgraph addition_expert:\n",
                        "\n",
                        "\n",
                        "Update from node agent:\n",
                        "\n",
                        "\n",
                        "==================================\u001b[1m Ai Message \u001b[0m==================================\n",
                        "Tool Calls:\n",
                        "  transfer_to_multiplication_expert (call_qcv8)\n",
                        " Call ID: call_qcv8\n",
                        "  Args:\n",
                        "\n",
                        "\n",
                        "----------------> {'messages': []}\n",
                        "Update from subgraph multiplication_expert:\n",
                        "\n",
                        "\n",
                        "Update from node agent:\n",
                        "\n",
                        "\n",
                        "==================================\u001b[1m Ai Message \u001b[0m==================================\n",
                        "Tool Calls:\n",
                        "  multiply (call_bc8e)\n",
                        " Call ID: call_bc8e\n",
                        "  Args:\n",
                        "    a: 8\n",
                        "    b: 12\n",
                        "    state: {'messages': []}\n",
                        "\n",
                        "\n",
                        "Update from subgraph multiplication_expert:\n",
                        "\n",
                        "\n",
                        "Update from node tools:\n",
                        "\n",
                        "\n",
                        "=================================\u001b[1m Tool Message \u001b[0m=================================\n",
                        "Name: multiply\n",
                        "\n",
                        "96\n",
                        "\n",
                        "\n",
                        "Update from subgraph multiplication_expert:\n",
                        "\n",
                        "\n",
                        "Update from node agent:\n",
                        "\n",
                        "\n",
                        "==================================\u001b[1m Ai Message \u001b[0m==================================\n",
                        "\n",
                        "The answer to (3 + 5) * 12 is 96.\n",
                        "\n",
                        "\n"
                    ]
                }
            ],
            "source": [
                "for chunk in graph.stream(\n",
                "    {\"messages\": [(\"user\", \"what's (3 + 5) * 12\")]}, subgraphs=True\n",
                "):\n",
                "    pretty_print_messages(chunk)"
            ]
        },
        {
            "cell_type": "code",
            "execution_count": null,
            "metadata": {},
            "outputs": [],
            "source": []
        }
    ],
    "metadata": {
        "kernelspec": {
            "display_name": "Python 3",
            "language": "python",
            "name": "python3"
        },
        "language_info": {
            "codemirror_mode": {
                "name": "ipython",
                "version": 3
            },
            "file_extension": ".py",
            "mimetype": "text/x-python",
            "name": "python",
            "nbconvert_exporter": "python",
            "pygments_lexer": "ipython3",
            "version": "3.11.11"
        }
    },
    "nbformat": 4,
    "nbformat_minor": 2
}