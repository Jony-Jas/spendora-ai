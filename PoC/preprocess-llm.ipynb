{
    "cells": [
        {
            "cell_type": "code",
            "execution_count": 27,
            "metadata": {},
            "outputs": [],
            "source": [
                "import os\n",
                "from dotenv import load_dotenv\n",
                "load_dotenv()\n",
                "\n",
                "os.environ['GROQ_API_KEY'] = os.getenv('GROQ_API_KEY')"
            ]
        },
        {
            "cell_type": "code",
            "execution_count": 28,
            "metadata": {},
            "outputs": [],
            "source": [
                "from langchain_groq import ChatGroq\n",
                "\n",
                "llm = ChatGroq(model='llama-3.3-70b-versatile')"
            ]
        },
        {
            "cell_type": "code",
            "execution_count": 29,
            "metadata": {},
            "outputs": [
                {
                    "data": {
                        "text/plain": [
                            "\"I'm here to help. Could you please provide more details about what you need help with? Is it a specific problem, a question, or something else? I'll do my best to assist you.\""
                        ]
                    },
                    "execution_count": 29,
                    "metadata": {},
                    "output_type": "execute_result"
                }
            ],
            "source": [
                "ai_msg = llm.invoke([\n",
                "    (\"system\",\"You are a chatbot\"),\n",
                "    (\"user\", \"i want help\")\n",
                "])\n",
                "ai_msg.content"
            ]
        },
        {
            "cell_type": "code",
            "execution_count": 30,
            "metadata": {},
            "outputs": [],
            "source": [
                "system_message = \"\"\"\n",
                "You are an advanced language model designed to preprocess user inputs for an expense tracking system. Your role is to extract structured information from the input and generate a concise summary of the user's request. This summary will be used later for semantic search and database operations.\n",
                "\n",
                "### Instructions\n",
                "1. Extract the following fields based on the user's input:\n",
                "   - **UserId**: {user_id}\n",
                "   - **Action**: One of \"CREATE\", \"READ\", \"UPDATE\", or \"DELETE\".  \n",
                "   - **Amount**: The expense amount (e.g., 50.00).  \n",
                "   - **Category**: The category associated with the expense {categories}. If unspecified, use \"Miscellaneous\".  \n",
                "   - **Date**: The date of the expense in a dd-mm-yyyy format. Calculate the date based on provided current date {current_date}. If no date is mentioned, consider a today.  \n",
                "2. Create a **Notes** field that is a concise description summarizing the user's request or intent. This will help retrieve similar records using semantic search. Avoid copying raw user text verbatim. Also add the date if it is relevant to the request.\n",
                "\n",
                "### Rules\n",
                "- Only summarize the user request for **Notes** (e.g., \"Add a groceries expense for 200 on January 10, 2025\").\n",
                "- Handle missing or incomplete information explicitly (e.g., \"Amount: Not specified\").\n",
                "- Use predefined categories where possible; otherwise, classify as \"Miscellaneous\".\n",
                "\n",
                "### User Input\n",
                "User Input: \"{input}\"\n",
                "\n",
                "### Output Format\n",
                "Respond in plain text fields like below:\n",
                "\n",
                "UserId: <user_id>\n",
                "Action: <CRUD Action>  \n",
                "Amount: <number or \"Not specified\">  \n",
                "Category: <string>  \n",
                "Date: <human-readable date or \"today\">  \n",
                "Notes: <summary of the user's request>\n",
                "\n",
                "### Examples\n",
                "\n",
                "**Example 1**  \n",
                "Input: \"I spent 200 on groceries yesterday.\"  \n",
                "Response:\n",
                "UserId: <user_id>\n",
                "Action: CREATE  \n",
                "Amount: 200  \n",
                "Category: Groceries  \n",
                "Date: 10-01-2025\n",
                "Notes: Add a groceries expense of 200 from yesterday (10-01-2025).\n",
                "\n",
                "**Example 2**  \n",
                "Input: \"Find expenses for last month's travel.\"  \n",
                "Response:  \n",
                "UserId: <user_id>\n",
                "Action: READ  \n",
                "Amount: Not specified  \n",
                "Category: Travel  \n",
                "Date: 10-12-2025 \n",
                "Notes: Retrieve travel expenses from last month (10-12-2025).\n",
                "\n",
                "**Example 3**\n",
                "Input: \"Remove 9/1/2025 expense of 500 in entertainment.\"  \n",
                "Response:  \n",
                "UserId: <user_id>\n",
                "Action: DELETE  \n",
                "Amount: 500  \n",
                "Category: Entertainment  \n",
                "Date: 09-01-2025\n",
                "Notes: Delete an entertainment expense of 500 from 09-01-2025.\n",
                "\n",
                "**Example 4**  \n",
                "Input: \"How much did I spend on food last year?\"  \n",
                "Response:  \n",
                "UserId: <user_id>\n",
                "Action: READ  \n",
                "Amount: Not specified  \n",
                "Category: Food  \n",
                "Date: 01-01-2024  \n",
                "Notes: Retrieve total food expenses from last year 2024.\n",
                "\n",
                "**Example 5**  \n",
                "Input: \"Add 1000 for car maintenance tomorrow.\"  \n",
                "Response:  \n",
                "UserId: <user_id>\n",
                "Action: CREATE  \n",
                "Amount: 1000  \n",
                "Category: Car Maintenance  \n",
                "Date: 12-01-2025  \n",
                "Notes: Add a car maintenance expense of 1000 for tomorrow (12-01-2025).\n",
                "\n",
                "---\n",
                "\n",
                "Follow these instructions exactly to generate structured data and a meaningful summary for each request.\n",
                "\"\"\""
            ]
        },
        {
            "cell_type": "code",
            "execution_count": 31,
            "metadata": {},
            "outputs": [
                {
                    "data": {
                        "text/plain": [
                            "'UserId: {user_id}\\nAction: CREATE\\nAmount: 20.00\\nCategory: Food\\nDate: today\\nNotes: Add a food expense of 20 for pizza today.'"
                        ]
                    },
                    "execution_count": 31,
                    "metadata": {},
                    "output_type": "execute_result"
                }
            ],
            "source": [
                "chat = llm.invoke([\n",
                "    (\"system\",system_message),\n",
                "    (\"user\", \"ate 20$ pizza\")\n",
                "])\n",
                "chat.content"
            ]
        },
        {
            "cell_type": "code",
            "execution_count": 32,
            "metadata": {},
            "outputs": [],
            "source": [
                "from langchain_core.prompts import ChatPromptTemplate\n",
                "\n",
                "prompt = ChatPromptTemplate.from_messages(\n",
                "    [\n",
                "        (\n",
                "            \"system\",\n",
                "            system_message,\n",
                "        ),\n",
                "        (\"human\", \"{input}\"),\n",
                "    ]\n",
                ")"
            ]
        },
        {
            "cell_type": "code",
            "execution_count": 33,
            "metadata": {},
            "outputs": [
                {
                    "data": {
                        "text/plain": [
                            "'UserId: 8\\nAction: CREATE\\nAmount: 20.00\\nCategory: Shopping\\nDate: 10-01-2025\\nNotes: Add a shopping expense of 20 for shoes from yesterday (10-01-2025).'"
                        ]
                    },
                    "execution_count": 33,
                    "metadata": {},
                    "output_type": "execute_result"
                }
            ],
            "source": [
                "chain = prompt | llm\n",
                "chain.invoke(\n",
                "    {\n",
                "        \"categories\": \"Groceries, Travel, Entertainment, Food, Shopping\",\n",
                "        \"current_date\": \"11-01-2025\",\n",
                "        \"input\": \"bought shoes for 20$ yesterday\",\n",
                "        \"user_id\": \"8\"\n",
                "    }\n",
                ").content"
            ]
        },
        {
            "cell_type": "code",
            "execution_count": null,
            "metadata": {},
            "outputs": [],
            "source": []
        },
        {
            "cell_type": "code",
            "execution_count": null,
            "metadata": {},
            "outputs": [],
            "source": []
        }
    ],
    "metadata": {
        "kernelspec": {
            "display_name": "Python 3",
            "language": "python",
            "name": "python3"
        },
        "language_info": {
            "codemirror_mode": {
                "name": "ipython",
                "version": 3
            },
            "file_extension": ".py",
            "mimetype": "text/x-python",
            "name": "python",
            "nbconvert_exporter": "python",
            "pygments_lexer": "ipython3",
            "version": "3.11.11"
        }
    },
    "nbformat": 4,
    "nbformat_minor": 2
}